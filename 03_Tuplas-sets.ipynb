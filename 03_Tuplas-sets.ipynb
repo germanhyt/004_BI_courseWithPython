{
 "cells": [
  {
   "cell_type": "code",
   "execution_count": 5,
   "metadata": {},
   "outputs": [
    {
     "name": "stdout",
     "output_type": "stream",
     "text": [
      "30 40\n",
      "[1, 2, 12345, 4]\n"
     ]
    }
   ],
   "source": [
    "#########################\n",
    "# Tuplas\n",
    "#########################\n",
    "\n",
    "# Tuplas\n",
    "lista = [1, 2, 3, 4]\n",
    "tupla = (10, 20, 30, 40)\n",
    "\n",
    "print(\n",
    "    tupla[2],\n",
    "    tupla[-1]\n",
    ")\n",
    "\n",
    "lista[2] = 12345\n",
    "# tupla[2] = 12345\n",
    "print(\n",
    "    lista,\n",
    "    #   tupla\n",
    ")"
   ]
  },
  {
   "cell_type": "code",
   "execution_count": null,
   "metadata": {},
   "outputs": [],
   "source": [
    "# Tuplas: Generación\n",
    "a = 5\n",
    "b = 6\n",
    "tupla = a, b\n",
    "print(tupla)\n",
    "type(tupla)\n",
    "\n",
    "print(tupla[0],\n",
    "      tupla[1])"
   ]
  },
  {
   "cell_type": "code",
   "execution_count": 7,
   "metadata": {},
   "outputs": [
    {
     "name": "stdout",
     "output_type": "stream",
     "text": [
      "(40, 50, 60)\n",
      "[40, 50, 60]\n",
      "[40, 12345, 60]\n"
     ]
    },
    {
     "data": {
      "text/plain": [
       "(40, 12345, 60)"
      ]
     },
     "execution_count": 7,
     "metadata": {},
     "output_type": "execute_result"
    }
   ],
   "source": [
    "# Casteo\n",
    "tupla = 40, 50, 60\n",
    "lista = list(tupla)\n",
    "print(lista)\n",
    "\n",
    "lista[1] = 12345\n",
    "print(lista)\n",
    "tuple(lista)"
   ]
  },
  {
   "cell_type": "code",
   "execution_count": 8,
   "metadata": {},
   "outputs": [
    {
     "name": "stdout",
     "output_type": "stream",
     "text": [
      "4 5 6\n",
      "[1, 2, 3, 5] True\n"
     ]
    }
   ],
   "source": [
    "# Asignacion de elementos\n",
    "a = 5\n",
    "a, b, c = 4, 5, 6\n",
    "print(\n",
    "    a,\n",
    "    b,\n",
    "    c\n",
    ")"
   ]
  },
  {
   "cell_type": "code",
   "execution_count": 1,
   "metadata": {},
   "outputs": [
    {
     "name": "stdout",
     "output_type": "stream",
     "text": [
      "[1, 2, 3, 5] True\n"
     ]
    }
   ],
   "source": [
    "a, b = [1, 2, 3, 5], True\n",
    "print(\n",
    "    a,\n",
    "    b\n",
    ")"
   ]
  },
  {
   "cell_type": "code",
   "execution_count": 2,
   "metadata": {},
   "outputs": [
    {
     "name": "stdout",
     "output_type": "stream",
     "text": [
      "Uruguay \n",
      " {'Germany', 'Argentina', 'Spain', 'Uruguay', 'England', 'Italy', 'Brazil', 'France', 'Germany FR'}\n"
     ]
    }
   ],
   "source": [
    "# SETS\n",
    "campeones_del_mundo = ['Uruguay', 'Italy', 'Italy', 'Uruguay',\n",
    "                       'Germany FR', 'Brazil', 'Brazil', 'England',\n",
    "                       'Brazil', 'Germany FR', 'Argentina', 'Italy',\n",
    "                       'Argentina', 'Germany FR', 'Brazil', 'France',\n",
    "                       'Brazil', 'Italy', 'Spain', 'Germany', 'France']\n",
    "\n",
    "campeones_unicos = set(campeones_del_mundo)\n",
    "print(\n",
    "    campeones_del_mundo[0],\n",
    "    \"\\n\",\n",
    "    campeones_unicos,\n",
    "    # campeones_unicos[0]\n",
    ")"
   ]
  },
  {
   "cell_type": "code",
   "execution_count": 20,
   "metadata": {},
   "outputs": [
    {
     "name": "stdout",
     "output_type": "stream",
     "text": [
      "{'Spark', 'SQL', 'Python', 'R', 'Tableau'}\n",
      "{'Spark', 'SQL', 'Python', 'Excel', 'R', 'Tableau'}\n",
      "{'Spark', 'SQL', 'Python', 'Excel', 'R', 'Tableau'}\n"
     ]
    }
   ],
   "source": [
    "# Operaciones con conjunto\n",
    "herramientas_ds = {\"Python\", \"R\", \"SQL\", \"Spark\", \"Tableau\", \"Python\"}\n",
    "print(herramientas_ds)\n",
    "herramientas_ds.add(\"Excel\")\n",
    "print(herramientas_ds)\n",
    "herramientas_de = {\"Python\", \"SQL\", \"Spark\", \"Sqoop\", \"Kafka\"}\n",
    "herramientas_ds.intersection(herramientas_de)\n",
    "herramientas_ds.difference(herramientas_de)\n",
    "herramientas_ds.union(herramientas_de)\n",
    "print(herramientas_ds)"
   ]
  },
  {
   "cell_type": "code",
   "execution_count": 21,
   "metadata": {},
   "outputs": [
    {
     "name": "stdout",
     "output_type": "stream",
     "text": [
      "{'Swellow', 'Charizard', 'Unfezant', 'Talonflame', 'Gible', 'Boldore', 'Snorlax', 'Torkoal', 'Corphish', 'Sceptile', 'Snivy', 'Grovyle', 'Hawlucha', 'Greninja', 'Squirtle', 'Totodile', 'Pignite', 'Glalie', 'Noivern', 'Goodra', 'Heracross', 'Pikachu', 'Oshawott', 'Noctowl', 'Bayleef'}\n",
      "['Swellow', 'Charizard', 'Unfezant', 'Talonflame', 'Gible', 'Boldore', 'Snorlax', 'Torkoal', 'Corphish', 'Sceptile', 'Snivy', 'Grovyle', 'Hawlucha', 'Greninja', 'Squirtle', 'Totodile', 'Pignite', 'Glalie', 'Noivern', 'Goodra', 'Heracross', 'Pikachu', 'Oshawott', 'Noctowl', 'Bayleef']\n",
      "['Bayleef', 'Boldore', 'Charizard', 'Corphish', 'Gible', 'Glalie', 'Goodra', 'Greninja', 'Grovyle', 'Hawlucha', 'Heracross', 'Noctowl', 'Noivern', 'Oshawott', 'Pignite', 'Pikachu', 'Sceptile', 'Snivy', 'Snorlax', 'Squirtle', 'Swellow', 'Talonflame', 'Torkoal', 'Totodile', 'Unfezant']\n"
     ]
    },
    {
     "data": {
      "text/plain": [
       "25"
      ]
     },
     "execution_count": 21,
     "metadata": {},
     "output_type": "execute_result"
    }
   ],
   "source": [
    "# Ejercicio\n",
    "# Obtener la lista de pokemones que Ash usó en las ligas pokemon ordenados en orden alfabético\n",
    "\n",
    "kanto = [\"Squirtle\", \"Pikachu\", \"Charizard\"]\n",
    "johto = [\"Pikachu\", \"Totodile\", \"Snorlax\", \"Noctowl\", \"Bayleef\", \"Charizard\"]\n",
    "hoenn = [\"Glalie\", \"Torkoal\", \"Corphish\", \"Swellow\", \"Grovyle\", \"Pikachu\"]\n",
    "sinnoh = [\"Heracross\", \"Torkoal\", \"Gible\", \"Sceptile\", \"Swellow\", \"Pikachu\"]\n",
    "unova = [\"Boldore\", \"Oshawott\", \"Pignite\", \"Pikachu\", \"Unfezant\", \"Snivy\"]\n",
    "kalos = [\"Pikachu\", \"Noivern\", \"Hawlucha\", \"Talonflame\", \"Goodra\", \"Greninja\"]\n",
    "     \n",
    "pokemon_total = kanto + johto + hoenn + sinnoh + unova + kalos\n",
    "# print(pokemon_total)     \n",
    "pokemon_set = set(pokemon_total)\n",
    "print(pokemon_set)\n",
    "pokemon_list = list(pokemon_set)\n",
    "print(pokemon_list)\n",
    "pokemon_list.sort()\n",
    "print(pokemon_list)\n",
    "pokemon_list[-1]\n",
    "len(pokemon_list)\n",
    "     "
   ]
  },
  {
   "cell_type": "code",
   "execution_count": null,
   "metadata": {},
   "outputs": [],
   "source": []
  },
  {
   "cell_type": "code",
   "execution_count": null,
   "metadata": {},
   "outputs": [],
   "source": []
  }
 ],
 "metadata": {
  "kernelspec": {
   "display_name": "Python 3",
   "language": "python",
   "name": "python3"
  },
  "language_info": {
   "codemirror_mode": {
    "name": "ipython",
    "version": 3
   },
   "file_extension": ".py",
   "mimetype": "text/x-python",
   "name": "python",
   "nbconvert_exporter": "python",
   "pygments_lexer": "ipython3",
   "version": "3.11.8"
  }
 },
 "nbformat": 4,
 "nbformat_minor": 2
}
