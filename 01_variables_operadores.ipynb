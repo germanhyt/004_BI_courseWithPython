{
 "cells": [
  {
   "cell_type": "code",
   "execution_count": 5,
   "metadata": {},
   "outputs": [
    {
     "name": "stdout",
     "output_type": "stream",
     "text": [
      "<class 'int'> <class 'float'>\n",
      "Hola Mundo\n",
      "True\n",
      "None\n",
      "[1, 2, 3, 4, 5]\n",
      "(1, 2, 3, 4, 5)\n",
      "{'nombre': 'Juan', 'edad': 25}\n",
      "range(1, 100)\n",
      "b'\\x00\\x00\\x00\\x00\\x00'\n",
      "bytearray(b'\\x00\\x00\\x00\\x00\\x00')\n",
      "2024-03-20 09:28:44.191502\n",
      "3.141592653589793\n",
      "2.718281828459045\n",
      "inf\n",
      "nan\n",
      "6.283185307179586\n",
      "5.0\n",
      "0.04538843029576756\n",
      "93\n",
      "4\n",
      "[2, 4]\n",
      "[4, 3]\n",
      "None\n",
      "45.41345181159308\n",
      "-143.60379365691537\n",
      "3\n",
      "3\n",
      "1\n",
      "1.5811388300841898\n",
      "2.5\n"
     ]
    }
   ],
   "source": [
    "#########################\n",
    "# Tipos de variables\n",
    "#########################\n",
    "\n",
    "# Variables Numéricas\n",
    "import math\n",
    "x = 12\n",
    "y = 13.5\n",
    "print(type(x),\n",
    "      type(y))\n",
    "\n",
    "# Variables de texto\n",
    "z = \"Hola Mundo\"\n",
    "print(z)\n",
    "\n",
    "# Variables Booleanas\n",
    "w = True\n",
    "print(w)\n",
    "\n",
    "# Variables de tipo None\n",
    "n = None\n",
    "print(n)\n",
    "\n",
    "# Variables de tipo lista\n",
    "l = [1, 2, 3, 4, 5]\n",
    "print(l)\n",
    "\n",
    "# Variables de tipo tupla\n",
    "t = (1, 2, 3, 4, 5)\n",
    "print(t)\n",
    "\n",
    "# Variables de tipo diccionario\n",
    "d = {\"nombre\": \"Juan\", \"edad\": 25}\n",
    "print(d)\n",
    "\n",
    "# Variables de tipo conjunto\n",
    "c = {1, 2, 3, 4, 5}\n",
    "print\n",
    "\n",
    "# Variables de tipo rango\n",
    "r = range(1, 100)\n",
    "print(r)\n",
    "\n",
    "# Variables de tipo bytes\n",
    "b = bytes(5)\n",
    "print(b)\n",
    "\n",
    "# Variables de tipo bytearray\n",
    "ba = bytearray(5)\n",
    "print(ba)\n",
    "\n",
    "# Variables de tipo memoria\n",
    "m = memoryview(bytes(5))\n",
    "\n",
    "# Variables de tipo fecha\n",
    "import datetime\n",
    "f = datetime.datetime.now()\n",
    "print(f)    \n",
    "\n",
    "# Variables de tipo matemáticas\n",
    "print(math.pi)\n",
    "print(math.e)\n",
    "print(math.inf)\n",
    "print(math.nan)\n",
    "print(math.tau)\n",
    "print(math.sqrt(25))\n",
    "\n",
    "# Variables de tipo random\n",
    "import random\n",
    "print(random.random())\n",
    "print(random.randint(1, 100))\n",
    "print(random.choice([1, 2, 3, 4, 5]))\n",
    "print(random.choices([1, 2, 3, 4, 5], k=2))\n",
    "print(random.sample([1, 2, 3, 4, 5], k=2))\n",
    "print(random.shuffle([1, 2, 3, 4, 5]))\n",
    "print(random.uniform(1, 100))\n",
    "print(random.gauss(1, 100))\n",
    "\n",
    "# Variables de tipo estadísticas\n",
    "import statistics\n",
    "print(statistics.mean([1, 2, 3, 4, 5]))\n",
    "print(statistics.median([1, 2, 3, 4, 5]))\n",
    "print(statistics.mode([1, 2, 3, 4, 5]))\n",
    "print(statistics.stdev([1, 2, 3, 4, 5]))\n",
    "print(statistics.variance([1, 2, 3, 4, 5]))\n",
    "\n"
   ]
  },
  {
   "cell_type": "code",
   "execution_count": 4,
   "metadata": {},
   "outputs": [
    {
     "name": "stdout",
     "output_type": "stream",
     "text": [
      "4\n",
      "5\n",
      "4 <class 'int'>\n",
      "4.0 <class 'float'>\n"
     ]
    }
   ],
   "source": [
    "# Casteo de variables Numáricas\n",
    "x = 4.9\n",
    "y = 5.4\n",
    "\n",
    "z = int(x)\n",
    "print(z)\n",
    "\n",
    "z = round(x)\n",
    "print(z)\n",
    "\n",
    "x = 4\n",
    "print(x, type(x))\n",
    "\n",
    "z = float(x)\n",
    "print(z, type(z))"
   ]
  },
  {
   "cell_type": "code",
   "execution_count": null,
   "metadata": {},
   "outputs": [],
   "source": [
    "# Operadores de variables numèricas\n",
    "x = 17\n",
    "y = 3\n",
    "print(\n",
    "    x + y,\n",
    "    x - y,\n",
    "    x * y,\n",
    "    x / y,\n",
    ")\n",
    "\n",
    "# Divisiòn entera\n",
    "print(\n",
    "    x // y,\n",
    "    x % y\n",
    ")\n",
    "\n",
    "# Potenciación\n",
    "print(\n",
    "    x ** y,\n",
    "    16 ** (1/2)\n",
    ")\n",
    "\n",
    "# Orden de operaciones\n",
    "## La prioridad de las operaciones es la siguiente:\n",
    "### Paréntesis\n",
    "### Exponenciación\n",
    "### Producto y División\n",
    "### Suma y Resta\n",
    "print(\n",
    "    5 + 16 / 2 ** 4,\n",
    "    5 + (16 / 2) ** 4,\n",
    "    5 + (16 / (2 ** 4))\n",
    ")"
   ]
  },
  {
   "cell_type": "code",
   "execution_count": 35,
   "metadata": {},
   "outputs": [
    {
     "name": "stdout",
     "output_type": "stream",
     "text": [
      "True False False\n",
      "True <class 'bool'>\n"
     ]
    }
   ],
   "source": [
    "# Variables Booleanas\n",
    "print(4 < 5,\n",
    "      4 > 5,\n",
    "      4 == 6,\n",
    "      )\n",
    "x = 5\n",
    "x = True\n",
    "y = False\n",
    "print(\n",
    "    x,\n",
    "    type(x)\n",
    ")"
   ]
  },
  {
   "cell_type": "code",
   "execution_count": 52,
   "metadata": {},
   "outputs": [
    {
     "name": "stdout",
     "output_type": "stream",
     "text": [
      "True False True False True\n"
     ]
    }
   ],
   "source": [
    "# Operadores de combinación de variables booleanas\n",
    "a = True\n",
    "b = False\n",
    "print(\n",
    "    a and a,\n",
    "    a and b,\n",
    "    a or b,\n",
    "    b or b,\n",
    "    (3 < 4) and (4 < 5)\n",
    ")"
   ]
  },
  {
   "cell_type": "code",
   "execution_count": 6,
   "metadata": {},
   "outputs": [
    {
     "name": "stdout",
     "output_type": "stream",
     "text": [
      "Hola mundo! <class 'str'>\n",
      "Hola Thor, tu edad es 35\n"
     ]
    }
   ],
   "source": [
    "# Strings\n",
    "saludo = \"Hola mundo!\"\n",
    "print(saludo,\n",
    "      type(saludo))\n",
    "\n",
    "nombre = \"Thor\"\n",
    "edad = 35\n",
    "saludo = f\"Hola {nombre}, tu edad es {edad}\"\n",
    "print(saludo)"
   ]
  },
  {
   "cell_type": "code",
   "execution_count": 55,
   "metadata": {},
   "outputs": [
    {
     "name": "stdout",
     "output_type": "stream",
     "text": [
      "Manuel Montoya\n",
      "Manuel Montoya\n",
      "Mi nombre es 'Manuel'\n",
      "este es un mensaje de varias lineas en python\n"
     ]
    }
   ],
   "source": [
    "# Comillas simples, dobles y triples\n",
    "nombre = \"Manuel Montoya\"\n",
    "print(nombre)\n",
    "nombre = 'Manuel Montoya'\n",
    "print(nombre)\n",
    "mensaje = \"Mi nombre es 'Manuel'\"\n",
    "print(mensaje)\n",
    "mensaje = \"\"\"este es un mensaje de varias lineas en python\"\"\"\n",
    "print(mensaje)\n"
   ]
  },
  {
   "cell_type": "code",
   "execution_count": 85,
   "metadata": {},
   "outputs": [
    {
     "name": "stdout",
     "output_type": "stream",
     "text": [
      "Thor, hijo de Odin ThorThorThorThorThor\n",
      "False True True True False\n"
     ]
    },
    {
     "data": {
      "text/plain": [
       "'manuel montoya'"
      ]
     },
     "execution_count": 85,
     "metadata": {},
     "output_type": "execute_result"
    }
   ],
   "source": [
    "# Operadores de strings\n",
    "cadena = \"Thor\"\n",
    "print(cadena + \", hijo de Odin\", cadena * 5)\n",
    "\n",
    "# Otros operadores de strings\n",
    "x = \"Real Madrid\"\n",
    "y = \"Barcelona\"\n",
    "\n",
    "print(x < y,\n",
    "      \"a\" < \"b\",\n",
    "      \"a\" > \"A\",\n",
    "      \"Brasil\" == \"Brasil\",\n",
    "      \"Brasil\" == \"brasil\",\n",
    "      )\n",
    "\n",
    "cadenaa = \"Manuel Montoya\"\n",
    "cadenaa.upper()\n",
    "cadenaa.lower()"
   ]
  },
  {
   "cell_type": "code",
   "execution_count": 90,
   "metadata": {},
   "outputs": [
    {
     "name": "stdout",
     "output_type": "stream",
     "text": [
      "abc <class 'str'>\n",
      "12 <class 'int'>\n"
     ]
    }
   ],
   "source": [
    "# Ingreso de valores por el usuario\n",
    "nombre = input(\"Ingrese su nombre:\")\n",
    "print(nombre, type(nombre))\n",
    "edad = input(\"Ingrese su edad: \")\n",
    "edad = int(edad)\n",
    "print(edad, type(edad))"
   ]
  },
  {
   "cell_type": "code",
   "execution_count": 96,
   "metadata": {},
   "outputs": [
    {
     "name": "stdout",
     "output_type": "stream",
     "text": [
      "21600\n",
      "151200\n"
     ]
    },
    {
     "data": {
      "text/plain": [
       "17958.5632602213"
      ]
     },
     "execution_count": 96,
     "metadata": {},
     "output_type": "execute_result"
    }
   ],
   "source": [
    "# Ejercicios con operadores\n",
    "\n",
    "## ¿Cuántos segundos hay en un día?\n",
    "### 1 minuto tiene 60 segundos\n",
    "### 1 hora tiene 60 minutos\n",
    "### 1 día tiene 24 horas\n",
    "segundos_por_dia = 6 * 60 * 60\n",
    "print(segundos_por_dia)\n",
    "segundos_por_semana = segundos_por_dia * 7\n",
    "print(segundos_por_semana)\n",
    "\n",
    "\n",
    "## Calcular el monto a pagar por un préstamoD\n",
    "### Las variables de entrada son:\n",
    "### m : monto prestado\n",
    "### n : número de meses que dura el préstamo\n",
    "### i : tasa de interés mensual\n",
    "### El monto final a pagar por el préstamo se calcula multiplicando el monto prestado por uno más el interés elevado a la candidad de meses que dura el préstamo.\n",
    "### monto_pago = m * (1 + i) ** n\n",
    "m = 10000\n",
    "i = 0.05\n",
    "n = 12\n",
    "monto_pago = m * (1 + i) ** n\n",
    "monto_pago\n"
   ]
  },
  {
   "cell_type": "code",
   "execution_count": null,
   "metadata": {},
   "outputs": [],
   "source": []
  }
 ],
 "metadata": {
  "kernelspec": {
   "display_name": "Python 3",
   "language": "python",
   "name": "python3"
  },
  "language_info": {
   "codemirror_mode": {
    "name": "ipython",
    "version": 3
   },
   "file_extension": ".py",
   "mimetype": "text/x-python",
   "name": "python",
   "nbconvert_exporter": "python",
   "pygments_lexer": "ipython3",
   "version": "3.11.8"
  }
 },
 "nbformat": 4,
 "nbformat_minor": 2
}
