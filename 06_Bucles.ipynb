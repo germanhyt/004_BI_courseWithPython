{
 "cells": [
  {
   "cell_type": "code",
   "execution_count": 3,
   "metadata": {},
   "outputs": [
    {
     "name": "stdout",
     "output_type": "stream",
     "text": [
      "1 2 3 4 5 6 7 8 9 "
     ]
    }
   ],
   "source": [
    "#########################\n",
    "# Bucles\n",
    "#########################\n",
    "\n",
    "# while\n",
    "# while condicion:\n",
    "#     bloque de codigo a repetir\n",
    "# Imprimir los números enteros menores a 10\n",
    "\n",
    "numero = 1\n",
    "while numero < 10:\n",
    "    print(numero, end=\" \")\n",
    "    numero = numero + 1"
   ]
  },
  {
   "cell_type": "code",
   "execution_count": 9,
   "metadata": {},
   "outputs": [
    {
     "name": "stdout",
     "output_type": "stream",
     "text": [
      "123456789"
     ]
    }
   ],
   "source": [
    "# bucles infinitos, No ejecutar\n",
    "numero = 1\n",
    "\n",
    "while numero < 10:\n",
    "    print(numero, end=\"\")\n",
    "    # numero = numero + 1\n",
    "\n",
    "# while true:\n",
    "#     print(\"numero\")"
   ]
  },
  {
   "cell_type": "code",
   "execution_count": 13,
   "metadata": {},
   "outputs": [
    {
     "name": "stdout",
     "output_type": "stream",
     "text": [
      "La suma es 1\n",
      "La suma es 3\n",
      "La suma es 6\n",
      "La suma es 10\n",
      "La suma es 22\n",
      "La suma final es 22\n"
     ]
    }
   ],
   "source": [
    "# flags de salida\n",
    "# Calcular la suma de una cantidad de números enteros ingresados por el usuario\n",
    "\n",
    "suma = 0\n",
    "continuar = True\n",
    "\n",
    "while continuar:\n",
    "\n",
    "    input_usuario = input(\"Ingrese un número ('exit' para terminar): \")\n",
    "\n",
    "    if input_usuario == 'exit':\n",
    "        continuar = False\n",
    "\n",
    "    else:\n",
    "        numero = int(input_usuario)\n",
    "        suma = suma + numero\n",
    "        print(f\"La suma es {suma}\")\n",
    "\n",
    "print(f\"La suma final es {suma}\")"
   ]
  },
  {
   "cell_type": "code",
   "execution_count": 18,
   "metadata": {},
   "outputs": [
    {
     "name": "stdout",
     "output_type": "stream",
     "text": [
      "1 2 3 4 "
     ]
    }
   ],
   "source": [
    "# break\n",
    "numero = 1\n",
    "\n",
    "while numero < 10:\n",
    "\n",
    "    if numero == 5:\n",
    "        break\n",
    "\n",
    "    print(numero, end=\" \")\n",
    "    numero = numero + 1"
   ]
  },
  {
   "cell_type": "code",
   "execution_count": 17,
   "metadata": {},
   "outputs": [
    {
     "name": "stdout",
     "output_type": "stream",
     "text": [
      "1 3 5 7 9 "
     ]
    }
   ],
   "source": [
    "# continue\n",
    "numero = 0\n",
    "\n",
    "while numero < 10:\n",
    "\n",
    "    numero = numero + 1\n",
    "\n",
    "    if numero % 2 == 0:\n",
    "        continue\n",
    "\n",
    "    print(numero, end=\" \")"
   ]
  },
  {
   "cell_type": "code",
   "execution_count": 20,
   "metadata": {},
   "outputs": [
    {
     "data": {
      "text/plain": [
       "4"
      ]
     },
     "execution_count": 20,
     "metadata": {},
     "output_type": "execute_result"
    }
   ],
   "source": [
    "# Blackjack\n",
    "# El jugador obtiene una carta y va sumandolas hasta obtener el número 21 o el más cercano posible\n",
    "\n",
    "import random\n",
    "random.randint(1, 13)"
   ]
  },
  {
   "cell_type": "code",
   "execution_count": 23,
   "metadata": {},
   "outputs": [
    {
     "name": "stdout",
     "output_type": "stream",
     "text": [
      "La carta obtenida es 5\n",
      "La suma de cartas es 5\n",
      "La carta obtenida es 9\n",
      "La suma de cartas es 14\n",
      "La carta obtenida es 7\n",
      "La suma de cartas es 21\n",
      "BLACKJACK!\n"
     ]
    }
   ],
   "source": [
    "suma = 0\n",
    "\n",
    "while suma <= 21:\n",
    "\n",
    "    carta = random.randint(1, 13)\n",
    "    suma = suma + carta\n",
    "\n",
    "    print(f\"La carta obtenida es {carta}\")\n",
    "    print(f\"La suma de cartas es {suma}\")\n",
    "\n",
    "    if suma == 21:\n",
    "        print(\"BLACKJACK!\")\n",
    "        break\n",
    "\n",
    "    elif suma > 21:\n",
    "        print(\"Perdiste :( \")\n",
    "        break\n",
    "\n",
    "    else:\n",
    "        opcion = input(\"Desea obtener otra carta? (S/N): \")\n",
    "        if opcion == \"N\":\n",
    "            print(f\"La suma final de cartas es {suma}\")\n",
    "            break"
   ]
  },
  {
   "cell_type": "code",
   "execution_count": 27,
   "metadata": {},
   "outputs": [
    {
     "name": "stdout",
     "output_type": "stream",
     "text": [
      "Me gusta los aviones, me gustas tú\n",
      "Me gusta viajar, me gustas tú\n",
      "Me gusta la mañana, me gustas tú\n",
      "Me gusta el viento, me gustas tú\n",
      "Me gusta soñar, me gustas tú\n",
      "Me gusta la mar, me gustas tú\n"
     ]
    }
   ],
   "source": [
    "# for\n",
    "# for valor in 'lista de valores':\n",
    "#     bloque de codigo para cada valor\n",
    "# Escribir la letra de la canción Me gusta de Manu Chao\n",
    "\n",
    "gustos_manuchao = [\"los aviones\", \"viajar\",\n",
    "                   \"la mañana\", \"el viento\", \"soñar\", \"la mar\"]\n",
    "\n",
    "for gusto in gustos_manuchao:\n",
    "    print(f\"Me gusta {gusto}, me gustas tú\")"
   ]
  },
  {
   "cell_type": "code",
   "execution_count": 24,
   "metadata": {},
   "outputs": [
    {
     "name": "stdout",
     "output_type": "stream",
     "text": [
      "Mark Zuckerberg\n",
      "Jack Dorsey\n",
      "Steve Jobs\n",
      "Bill Gates\n"
     ]
    }
   ],
   "source": [
    "# zip\n",
    "nombres = [\"Mark Zuckerberg\", \"Jack Dorsey\", \"Steve Jobs\", \"Bill Gates\"]\n",
    "empresas = [\"Facebook\", \"Twitter\", \"Apple\", \"Microsoft\"]\n",
    "precio_accion = [24.7, 293.6, 499.2, 228.2]\n",
    "for nombre in nombres:\n",
    "    print(nombre)"
   ]
  },
  {
   "cell_type": "code",
   "execution_count": 25,
   "metadata": {},
   "outputs": [
    {
     "name": "stdout",
     "output_type": "stream",
     "text": [
      "('Mark Zuckerberg', 'Facebook')\n",
      "('Jack Dorsey', 'Twitter')\n",
      "('Steve Jobs', 'Apple')\n",
      "('Bill Gates', 'Microsoft')\n"
     ]
    }
   ],
   "source": [
    "for variable in zip(nombres, empresas):\n",
    "    print(variable) "
   ]
  },
  {
   "cell_type": "code",
   "execution_count": 26,
   "metadata": {},
   "outputs": [
    {
     "name": "stdout",
     "output_type": "stream",
     "text": [
      "Mark Zuckerberg fundó Facebook\n",
      "Jack Dorsey fundó Twitter\n",
      "Steve Jobs fundó Apple\n",
      "Bill Gates fundó Microsoft\n"
     ]
    }
   ],
   "source": [
    "for nombre, empresa in zip(nombres, empresas):\n",
    "    print(f\"{nombre} fundó {empresa}\")"
   ]
  },
  {
   "cell_type": "code",
   "execution_count": 29,
   "metadata": {},
   "outputs": [
    {
     "name": "stdout",
     "output_type": "stream",
     "text": [
      "Mark Zuckerberg fundó Facebook. La accion tiene un precio de $24.7\n",
      "Jack Dorsey fundó Twitter. La accion tiene un precio de $293.6\n",
      "Steve Jobs fundó Apple. La accion tiene un precio de $499.2\n",
      "Bill Gates fundó Microsoft. La accion tiene un precio de $228.2\n"
     ]
    }
   ],
   "source": [
    "for nombre, empresa, precio in zip(nombres, empresas, precio_accion):\n",
    "    print(f\"{nombre} fundó {empresa}. La accion tiene un precio de ${precio}\")"
   ]
  },
  {
   "cell_type": "code",
   "execution_count": 30,
   "metadata": {},
   "outputs": [
    {
     "data": {
      "text/plain": [
       "[1, 3, 5, 7, 9]"
      ]
     },
     "execution_count": 30,
     "metadata": {},
     "output_type": "execute_result"
    }
   ],
   "source": [
    "# range\n",
    "list(range(1, 10, 2))"
   ]
  },
  {
   "cell_type": "code",
   "execution_count": 33,
   "metadata": {},
   "outputs": [
    {
     "name": "stdout",
     "output_type": "stream",
     "text": [
      "1 4 7 10 13 16 19 "
     ]
    }
   ],
   "source": [
    "for numero in range(1, 20, 3):\n",
    "    print(numero, end=\" \")"
   ]
  },
  {
   "cell_type": "code",
   "execution_count": 34,
   "metadata": {},
   "outputs": [
    {
     "data": {
      "text/plain": [
       "[1, 16, 49, 100, 169, 256, 361]"
      ]
     },
     "execution_count": 34,
     "metadata": {},
     "output_type": "execute_result"
    }
   ],
   "source": [
    "cuadrados = []\n",
    "\n",
    "for numero in range(1, 20, 3):\n",
    "    cuadrados.append(numero ** 2)\n",
    "\n",
    "cuadrados"
   ]
  },
  {
   "cell_type": "code",
   "execution_count": 35,
   "metadata": {},
   "outputs": [
    {
     "data": {
      "text/plain": [
       "[100, 93, 86, 79, 72, 65, 58, 51]"
      ]
     },
     "execution_count": 35,
     "metadata": {},
     "output_type": "execute_result"
    }
   ],
   "source": [
    "list(range(100, 50, -7))"
   ]
  },
  {
   "cell_type": "code",
   "execution_count": 36,
   "metadata": {},
   "outputs": [
    {
     "data": {
      "text/plain": [
       "[1, 4, 9, 16, 25, 36, 49, 64, 81]"
      ]
     },
     "execution_count": 36,
     "metadata": {},
     "output_type": "execute_result"
    }
   ],
   "source": [
    "# compresión de listas\n",
    "cuadrados = []\n",
    "\n",
    "for numero in range(1, 10):\n",
    "    cuadrados.append(numero ** 2)\n",
    "\n",
    "cuadrados"
   ]
  },
  {
   "cell_type": "code",
   "execution_count": 37,
   "metadata": {},
   "outputs": [
    {
     "data": {
      "text/plain": [
       "[1, 4, 9, 16, 25, 36, 49, 64, 81]"
      ]
     },
     "execution_count": 37,
     "metadata": {},
     "output_type": "execute_result"
    }
   ],
   "source": [
    "cuadrados = [numero ** 2 for numero in range(1,10)]\n",
    "cuadrados"
   ]
  },
  {
   "cell_type": "code",
   "execution_count": 38,
   "metadata": {},
   "outputs": [
    {
     "data": {
      "text/plain": [
       "[4, 16, 36, 64]"
      ]
     },
     "execution_count": 38,
     "metadata": {},
     "output_type": "execute_result"
    }
   ],
   "source": [
    "cuadrados = []\n",
    "\n",
    "for numero in range(1, 10):\n",
    "\n",
    "    if numero % 2 == 0:\n",
    "        cuadrados.append(numero ** 2)\n",
    "\n",
    "cuadrados"
   ]
  },
  {
   "cell_type": "code",
   "execution_count": 39,
   "metadata": {},
   "outputs": [
    {
     "data": {
      "text/plain": [
       "[4, 16, 36, 64]"
      ]
     },
     "execution_count": 39,
     "metadata": {},
     "output_type": "execute_result"
    }
   ],
   "source": [
    "cuadrados = [numero ** 2 for numero in range(1,10) if numero % 2 == 0]\n",
    "cuadrados"
   ]
  },
  {
   "cell_type": "code",
   "execution_count": 40,
   "metadata": {},
   "outputs": [
    {
     "name": "stdout",
     "output_type": "stream",
     "text": [
      "naranjas\n",
      "manzanas\n",
      "peras\n",
      "uvas\n"
     ]
    }
   ],
   "source": [
    "# enumerate\n",
    "lista_compras = [\"naranjas\", \"manzanas\", \"peras\", \"uvas\"]\n",
    "\n",
    "for fruta in lista_compras:\n",
    "    print(fruta)"
   ]
  },
  {
   "cell_type": "code",
   "execution_count": 41,
   "metadata": {},
   "outputs": [
    {
     "name": "stdout",
     "output_type": "stream",
     "text": [
      "(0, 'naranjas')\n",
      "(1, 'manzanas')\n",
      "(2, 'peras')\n",
      "(3, 'uvas')\n"
     ]
    }
   ],
   "source": [
    "for variable in enumerate(lista_compras):\n",
    "    print(variable)"
   ]
  },
  {
   "cell_type": "code",
   "execution_count": 42,
   "metadata": {},
   "outputs": [
    {
     "name": "stdout",
     "output_type": "stream",
     "text": [
      "0. naranjas\n",
      "1. manzanas\n",
      "2. peras\n",
      "3. uvas\n"
     ]
    }
   ],
   "source": [
    "for numero, fruta in enumerate(lista_compras):\n",
    "    print(f\"{numero}. {fruta}\")"
   ]
  },
  {
   "cell_type": "code",
   "execution_count": 43,
   "metadata": {},
   "outputs": [
    {
     "name": "stdout",
     "output_type": "stream",
     "text": [
      "1. naranjas\n",
      "2. manzanas\n",
      "3. peras\n",
      "4. uvas\n"
     ]
    }
   ],
   "source": [
    "for numero, fruta in enumerate(lista_compras, 1):\n",
    "    print(f\"{numero}. {fruta}\")"
   ]
  },
  {
   "cell_type": "code",
   "execution_count": 44,
   "metadata": {},
   "outputs": [
    {
     "name": "stdout",
     "output_type": "stream",
     "text": [
      "El factorial de 10 es 3628800\n"
     ]
    }
   ],
   "source": [
    "# Ejemplo\n",
    "# Escribir un programa que calcule el factorial de un número\n",
    "\n",
    "numero = 10\n",
    "producto = 1\n",
    "\n",
    "for n in range(1, numero + 1):\n",
    "    producto = producto * n\n",
    "\n",
    "print(f\"El factorial de {numero} es {producto}\")"
   ]
  },
  {
   "cell_type": "code",
   "execution_count": 47,
   "metadata": {},
   "outputs": [
    {
     "name": "stdout",
     "output_type": "stream",
     "text": [
      "[1, 8, 27, 64, 125, 216, 343, 512, 729, 1000, 1331, 1728, 2197, 2744, 3375, 4096, 4913, 5832, 6859]\n"
     ]
    }
   ],
   "source": [
    "# Ejercicio propuesto 1:2\n",
    "# Escribir un programa que reciba un núme2ro de un usuario y imprima los cubos de los números menores\n",
    "\n",
    "limite = int(input(\"Ingrese un número entero: \"))\n",
    "\n",
    "cubos = [numero ** 3 for numero in range(1, limite)]\n",
    "print(cubos)"
   ]
  },
  {
   "cell_type": "code",
   "execution_count": 51,
   "metadata": {},
   "outputs": [
    {
     "name": "stdout",
     "output_type": "stream",
     "text": [
      "20 NO es primo. Es divisible entre 17 y 1\n"
     ]
    }
   ],
   "source": [
    "# Ejercicio propuesto 2:\n",
    "# Escribir un programa que reciba un número de un usuario y imprima si el número es primo o no\n",
    "\n",
    "numero = int(input(\"Ingrese un número: \"))\n",
    "\n",
    "primo = True\n",
    "\n",
    "if numero % 2 == 0 and numero != 2:\n",
    "    primo = False\n",
    "\n",
    "else:\n",
    "    for divisor in range(3, numero, 2):\n",
    "        if numero % divisor == 0:\n",
    "            primo = False\n",
    "            break\n",
    "\n",
    "if primo:\n",
    "    print(f\"{numero} es primo\")\n",
    "else:\n",
    "    print(f\"{numero} NO es primo. Es divisible entre {divisor} y {numero//divisor}\")"
   ]
  },
  {
   "cell_type": "code",
   "execution_count": 53,
   "metadata": {},
   "outputs": [
    {
     "name": "stdout",
     "output_type": "stream",
     "text": [
      "El numero 20 NO es primo, es divisible entre 17 y 1\n"
     ]
    }
   ],
   "source": [
    "# Colocar aquí la solución\n",
    "primo = True\n",
    "\n",
    "if numero % 2 == 0 and numero != 2:\n",
    "    primo = False\n",
    "\n",
    "else:\n",
    "    for divisor in range(3, numero, 2):\n",
    "        if numero % divisor == 0:\n",
    "            primo = False\n",
    "            break\n",
    "\n",
    "if primo:\n",
    "    print(f\"El numero {numero} es primo\")\n",
    "else:\n",
    "    print(f\"El numero {numero} NO es primo, es divisible entre {divisor} y {numero//divisor}\")"
   ]
  },
  {
   "cell_type": "code",
   "execution_count": 54,
   "metadata": {},
   "outputs": [
    {
     "data": {
      "text/plain": [
       "{'Facebook': 24.7, 'Twitter': 293.6, 'Apple': 499.2, 'Microsoft': 228.2}"
      ]
     },
     "execution_count": 54,
     "metadata": {},
     "output_type": "execute_result"
    }
   ],
   "source": [
    "# Colecciones y bucles\n",
    "# Crear un diccionario en el que las llaves sean las empresas y los valores los precios de las acciones\n",
    "\n",
    "empresas = [\"Facebook\", \"Twitter\", \"Apple\", \"Microsoft\"]\n",
    "precio_accion = [24.7, 293.6, 499.2, 228.2]\n",
    "dict_acciones = {}\n",
    "\n",
    "for empresa, precio in zip(empresas, precio_accion):\n",
    "    dict_acciones[empresa] = precio\n",
    "\n",
    "dict_acciones"
   ]
  },
  {
   "cell_type": "code",
   "execution_count": 55,
   "metadata": {},
   "outputs": [
    {
     "data": {
      "text/plain": [
       "{'Facebook': 24.7, 'Twitter': 293.6, 'Apple': 499.2, 'Microsoft': 228.2}"
      ]
     },
     "execution_count": 55,
     "metadata": {},
     "output_type": "execute_result"
    }
   ],
   "source": [
    "dict_acciones_compacta = {empresa: precio for empresa, precio in zip(empresas, precio_accion)}\n",
    "dict_acciones_compacta"
   ]
  },
  {
   "cell_type": "code",
   "execution_count": 56,
   "metadata": {},
   "outputs": [
    {
     "data": {
      "text/plain": [
       "{'Facebook': 24.7, 'Twitter': 293.6, 'Apple': 499.2, 'Microsoft': 228.2}"
      ]
     },
     "execution_count": 56,
     "metadata": {},
     "output_type": "execute_result"
    }
   ],
   "source": [
    "dict_acciones"
   ]
  },
  {
   "cell_type": "code",
   "execution_count": 57,
   "metadata": {},
   "outputs": [
    {
     "data": {
      "text/plain": [
       "{'Twitter': 293.6, 'Apple': 499.2}"
      ]
     },
     "execution_count": 57,
     "metadata": {},
     "output_type": "execute_result"
    }
   ],
   "source": [
    "dict_filtrado = {}\n",
    "\n",
    "for empresa, precio in dict_acciones.items():\n",
    "    if precio > 250:\n",
    "        dict_filtrado[empresa] = precio\n",
    "\n",
    "dict_filtrado"
   ]
  },
  {
   "cell_type": "code",
   "execution_count": 58,
   "metadata": {},
   "outputs": [
    {
     "data": {
      "text/plain": [
       "{'Twitter': 293.6, 'Apple': 499.2}"
      ]
     },
     "execution_count": 58,
     "metadata": {},
     "output_type": "execute_result"
    },
    {
     "ename": "",
     "evalue": "",
     "output_type": "error",
     "traceback": [
      "\u001b[1;31mThe Kernel crashed while executing code in the current cell or a previous cell. \n",
      "\u001b[1;31mPlease review the code in the cell(s) to identify a possible cause of the failure. \n",
      "\u001b[1;31mClick <a href='https://aka.ms/vscodeJupyterKernelCrash'>here</a> for more info. \n",
      "\u001b[1;31mView Jupyter <a href='command:jupyter.viewOutput'>log</a> for further details."
     ]
    }
   ],
   "source": [
    "dict_filtrado_compacto = {empresa: precio for empresa, precio in dict_acciones.items() if precio > 250}\n",
    "dict_filtrado_compacto"
   ]
  }
 ],
 "metadata": {
  "kernelspec": {
   "display_name": "Python 3",
   "language": "python",
   "name": "python3"
  },
  "language_info": {
   "codemirror_mode": {
    "name": "ipython",
    "version": 3
   },
   "file_extension": ".py",
   "mimetype": "text/x-python",
   "name": "python",
   "nbconvert_exporter": "python",
   "pygments_lexer": "ipython3",
   "version": "3.11.8"
  }
 },
 "nbformat": 4,
 "nbformat_minor": 2
}
