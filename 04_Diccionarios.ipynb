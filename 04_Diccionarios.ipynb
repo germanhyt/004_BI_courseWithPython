{
 "cells": [
  {
   "cell_type": "code",
   "execution_count": 2,
   "metadata": {},
   "outputs": [
    {
     "data": {
      "text/plain": [
       "dict"
      ]
     },
     "execution_count": 2,
     "metadata": {},
     "output_type": "execute_result"
    }
   ],
   "source": [
    "#########################\n",
    "# Diccionarios\n",
    "#########################\n",
    "\n",
    "# Diccionarios\n",
    "facebook = {\"founder\": [\"Mark Zuckerberg\", \"Eduardo Saverin\"],\n",
    "            \"year\": 2004,\n",
    "            \"dominio\": \"www.facebook.com\"}\n",
    "type(facebook)"
   ]
  },
  {
   "cell_type": "code",
   "execution_count": 5,
   "metadata": {},
   "outputs": [
    {
     "data": {
      "text/plain": [
       "'www.facebook.com'"
      ]
     },
     "execution_count": 5,
     "metadata": {},
     "output_type": "execute_result"
    }
   ],
   "source": [
    "facebook[\"founder\"]\n",
    "facebook[\"year\"]\n",
    "facebook[\"dominio\"]"
   ]
  },
  {
   "cell_type": "code",
   "execution_count": 15,
   "metadata": {},
   "outputs": [
    {
     "data": {
      "text/plain": [
       "['Mark Zuckerberg', 'Eduardo Saverin']"
      ]
     },
     "execution_count": 15,
     "metadata": {},
     "output_type": "execute_result"
    }
   ],
   "source": [
    "# Get\n",
    "facebook.get(\"founder\")\n",
    "# facebook[\"stock price\"]\n",
    "# facebook.get(\"stock price\")"
   ]
  },
  {
   "cell_type": "code",
   "execution_count": 14,
   "metadata": {},
   "outputs": [
    {
     "data": {
      "text/plain": [
       "{'founder': ['Mark Zuckerberg', 'Eduardo Saverin'],\n",
       " 'year': 2004,\n",
       " 'dominio': 'www.facebook.com',\n",
       " 'stock price': 250}"
      ]
     },
     "execution_count": 14,
     "metadata": {},
     "output_type": "execute_result"
    }
   ],
   "source": [
    "# Eliminar y actualizar elementos\n",
    "facebook = {\"founder\": [\"Mark Zuckerberg\", \"Eduardo Saverin\"],\n",
    "            \"year\": 2004,\n",
    "            \"dominio\": \"www.facebook.com\"}\n",
    "facebook[\"stock price\"] = 250\n",
    "facebook"
   ]
  },
  {
   "cell_type": "code",
   "execution_count": 20,
   "metadata": {},
   "outputs": [
    {
     "data": {
      "text/plain": [
       "{'founder': 'Mark Zuckerberg',\n",
       " 'dominio': 'www.facebook.com',\n",
       " 'stock price': 250}"
      ]
     },
     "execution_count": 20,
     "metadata": {},
     "output_type": "execute_result"
    }
   ],
   "source": [
    "# facebook.pop(\"year\")\n",
    "# facebook\n",
    "\n",
    "facebook[\"founder\"] = \"Mark Zuckerberg\"\n",
    "facebook"
   ]
  },
  {
   "cell_type": "code",
   "execution_count": 21,
   "metadata": {},
   "outputs": [
    {
     "data": {
      "text/plain": [
       "['founder', 'dominio', 'stock price']"
      ]
     },
     "execution_count": 21,
     "metadata": {},
     "output_type": "execute_result"
    }
   ],
   "source": [
    "# Keys e items\n",
    "keys = list(facebook.keys())\n",
    "keys"
   ]
  },
  {
   "cell_type": "code",
   "execution_count": null,
   "metadata": {},
   "outputs": [],
   "source": [
    "values = list(facebook.values())\n",
    "values"
   ]
  },
  {
   "cell_type": "code",
   "execution_count": null,
   "metadata": {},
   "outputs": [],
   "source": [
    "values[0]"
   ]
  },
  {
   "cell_type": "code",
   "execution_count": 22,
   "metadata": {},
   "outputs": [
    {
     "data": {
      "text/plain": [
       "'Mark Zuckerberg'"
      ]
     },
     "execution_count": 22,
     "metadata": {},
     "output_type": "execute_result"
    }
   ],
   "source": [
    "facebook[\"founder\"]"
   ]
  },
  {
   "cell_type": "code",
   "execution_count": 23,
   "metadata": {},
   "outputs": [
    {
     "data": {
      "text/plain": [
       "[('founder', 'Mark Zuckerberg'),\n",
       " ('dominio', 'www.facebook.com'),\n",
       " ('stock price', 250)]"
      ]
     },
     "execution_count": 23,
     "metadata": {},
     "output_type": "execute_result"
    }
   ],
   "source": [
    "items = list(facebook.items())\n",
    "items"
   ]
  },
  {
   "cell_type": "code",
   "execution_count": 24,
   "metadata": {},
   "outputs": [
    {
     "data": {
      "text/plain": [
       "('dominio', 'www.facebook.com')"
      ]
     },
     "execution_count": 24,
     "metadata": {},
     "output_type": "execute_result"
    }
   ],
   "source": [
    "items[1]"
   ]
  },
  {
   "cell_type": "code",
   "execution_count": 29,
   "metadata": {},
   "outputs": [
    {
     "data": {
      "text/plain": [
       "{'founder': 'Mark Zuckerberg',\n",
       " 'dominio': 'www.facebook.com',\n",
       " 'stock price': 250,\n",
       " 'location': 'Palo Alto',\n",
       " 'users': '2.5 billion'}"
      ]
     },
     "execution_count": 29,
     "metadata": {},
     "output_type": "execute_result"
    }
   ],
   "source": [
    "# update\n",
    "facebook_extra = {'location': 'Palo Alto',\n",
    "                  'users': '2.5 billion'}\n",
    "facebook.update(facebook_extra)\n",
    "facebook"
   ]
  },
  {
   "cell_type": "code",
   "execution_count": 30,
   "metadata": {},
   "outputs": [
    {
     "data": {
      "text/plain": [
       "{'founder': 'Mark Zuckerberg',\n",
       " 'dominio': 'www.facebook.com',\n",
       " 'stock price': 250,\n",
       " 'location': 'Palo Alto',\n",
       " 'users': '2.5 billion',\n",
       " 'mobile': ['android', 'ios']}"
      ]
     },
     "execution_count": 30,
     "metadata": {},
     "output_type": "execute_result"
    },
    {
     "ename": "",
     "evalue": "",
     "output_type": "error",
     "traceback": [
      "\u001b[1;31mThe Kernel crashed while executing code in the current cell or a previous cell. \n",
      "\u001b[1;31mPlease review the code in the cell(s) to identify a possible cause of the failure. \n",
      "\u001b[1;31mClick <a href='https://aka.ms/vscodeJupyterKernelCrash'>here</a> for more info. \n",
      "\u001b[1;31mView Jupyter <a href='command:jupyter.viewOutput'>log</a> for further details."
     ]
    }
   ],
   "source": [
    "\n",
    "facebook_extra = {'founder': 'Mark Zuckerberg',\n",
    "                  'mobile': ['android', 'ios']}\n",
    "facebook.update(facebook_extra)\n",
    "facebook"
   ]
  }
 ],
 "metadata": {
  "kernelspec": {
   "display_name": "Python 3",
   "language": "python",
   "name": "python3"
  },
  "language_info": {
   "codemirror_mode": {
    "name": "ipython",
    "version": 3
   },
   "file_extension": ".py",
   "mimetype": "text/x-python",
   "name": "python",
   "nbconvert_exporter": "python",
   "pygments_lexer": "ipython3",
   "version": "3.11.8"
  }
 },
 "nbformat": 4,
 "nbformat_minor": 2
}
