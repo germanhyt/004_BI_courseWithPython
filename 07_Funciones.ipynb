{
 "cells": [
  {
   "cell_type": "code",
   "execution_count": 2,
   "metadata": {},
   "outputs": [
    {
     "data": {
      "text/plain": [
       "[1, 3, 5, 7, 9]"
      ]
     },
     "execution_count": 2,
     "metadata": {},
     "output_type": "execute_result"
    }
   ],
   "source": [
    "# Funciones\n",
    "# def funcion (parametros):\n",
    "#     bloque de codigo\n",
    "\n",
    "list(range(1, 10, 2))"
   ]
  },
  {
   "cell_type": "code",
   "execution_count": 1,
   "metadata": {},
   "outputs": [
    {
     "data": {
      "text/plain": [
       "47"
      ]
     },
     "execution_count": 1,
     "metadata": {},
     "output_type": "execute_result"
    }
   ],
   "source": [
    "sum([1, 2, 23, 4, 5, 6, 6])"
   ]
  },
  {
   "cell_type": "code",
   "execution_count": 3,
   "metadata": {},
   "outputs": [
    {
     "name": "stdout",
     "output_type": "stream",
     "text": [
      "El factorial de 5 es 120\n"
     ]
    }
   ],
   "source": [
    "# creación de funciones\n",
    "# Definir una función que calcule el factorial de un número\n",
    "\n",
    "def factorial(numero):\n",
    "\n",
    "    producto = 1\n",
    "\n",
    "    for n in range(1, numero + 1):\n",
    "        producto = producto * n\n",
    "\n",
    "    print(f\"El factorial de {numero} es {producto}\")\n",
    "\n",
    "\n",
    "factorial(5)"
   ]
  },
  {
   "cell_type": "code",
   "execution_count": 4,
   "metadata": {},
   "outputs": [
    {
     "data": {
      "text/plain": [
       "5"
      ]
     },
     "execution_count": 4,
     "metadata": {},
     "output_type": "execute_result"
    }
   ],
   "source": [
    "# Variables locales y globales\n",
    "\n",
    "a = 5\n",
    "a"
   ]
  },
  {
   "cell_type": "code",
   "execution_count": 5,
   "metadata": {},
   "outputs": [
    {
     "data": {
      "text/plain": [
       "120"
      ]
     },
     "execution_count": 5,
     "metadata": {},
     "output_type": "execute_result"
    }
   ],
   "source": [
    "# Valores de retorno\n",
    "\n",
    "def factorial(numero):\n",
    "\n",
    "    producto = 1\n",
    "\n",
    "    for n in range(1, numero + 1):\n",
    "        producto = producto * n\n",
    "\n",
    "    return producto\n",
    "\n",
    "\n",
    "factorial(5)"
   ]
  },
  {
   "cell_type": "code",
   "execution_count": 6,
   "metadata": {},
   "outputs": [
    {
     "data": {
      "text/plain": [
       "int"
      ]
     },
     "execution_count": 6,
     "metadata": {},
     "output_type": "execute_result"
    }
   ],
   "source": [
    "fact_5 = factorial(5)\n",
    "fact_5\n",
    "type(fact_5)"
   ]
  },
  {
   "cell_type": "code",
   "execution_count": 10,
   "metadata": {},
   "outputs": [
    {
     "data": {
      "text/plain": [
       "0.8"
      ]
     },
     "execution_count": 10,
     "metadata": {},
     "output_type": "execute_result"
    }
   ],
   "source": [
    "# Valores de retorno: varios\n",
    "\n",
    "def ratios(numero1, numero2):\n",
    "\n",
    "    ratio1 = numero1 / numero2\n",
    "    ratio2 = numero2 / numero1\n",
    "\n",
    "    return ratio1, ratio2\n",
    "\n",
    "\n",
    "ratios(4, 5)"
   ]
  },
  {
   "cell_type": "code",
   "execution_count": 11,
   "metadata": {},
   "outputs": [
    {
     "data": {
      "text/plain": [
       "0.8"
      ]
     },
     "execution_count": 11,
     "metadata": {},
     "output_type": "execute_result"
    }
   ],
   "source": [
    "ratio1, ratio2 = ratios(4, 5)\n",
    "ratio1"
   ]
  },
  {
   "cell_type": "code",
   "execution_count": 14,
   "metadata": {},
   "outputs": [
    {
     "data": {
      "text/plain": [
       "NoneType"
      ]
     },
     "execution_count": 14,
     "metadata": {},
     "output_type": "execute_result"
    }
   ],
   "source": [
    "# Valores de retorno: None\n",
    "\n",
    "def sumar(numero1, numero2):\n",
    "    resultado = numero1 + numero2\n",
    "    return None\n",
    "\n",
    "\n",
    "a = sumar(4, 6)\n",
    "a\n",
    "type(a)"
   ]
  },
  {
   "cell_type": "code",
   "execution_count": 15,
   "metadata": {},
   "outputs": [
    {
     "data": {
      "text/plain": [
       "True"
      ]
     },
     "execution_count": 15,
     "metadata": {},
     "output_type": "execute_result"
    }
   ],
   "source": [
    "# Ejemplo:\n",
    "# Escribir una función que indique si un número es primo o no\n",
    "\n",
    "\n",
    "def es_primo(numero):\n",
    "\n",
    "    if numero == 2:\n",
    "        return True\n",
    "\n",
    "    elif numero % 2 == 0:\n",
    "        return False\n",
    "\n",
    "    else:\n",
    "        for divisor in range(3, numero, 2):\n",
    "            if numero % divisor == 0:\n",
    "                return False\n",
    "\n",
    "        return True\n",
    "\n",
    "\n",
    "es_primo(2)"
   ]
  },
  {
   "cell_type": "code",
   "execution_count": 16,
   "metadata": {},
   "outputs": [
    {
     "data": {
      "text/plain": [
       "[True, False, False, True]"
      ]
     },
     "execution_count": 16,
     "metadata": {},
     "output_type": "execute_result"
    }
   ],
   "source": [
    "# Ejercicio propuesto\n",
    "# Crear un programa que reciba una lista de números y identifique si sus elementos son números primos.\n",
    "\n",
    "\n",
    "def son_primos(lista_numeros):\n",
    "\n",
    "    lista_primos = []\n",
    "\n",
    "    for numero in lista_numeros:\n",
    "        lista_primos.append(es_primo(numero))\n",
    "\n",
    "    return lista_primos\n",
    "\n",
    "\n",
    "son_primos([2, 6, 15, 17])"
   ]
  },
  {
   "cell_type": "code",
   "execution_count": 18,
   "metadata": {},
   "outputs": [
    {
     "data": {
      "text/plain": [
       "243"
      ]
     },
     "execution_count": 18,
     "metadata": {},
     "output_type": "execute_result"
    }
   ],
   "source": [
    "# parámetros de una función\n",
    "\n",
    "def potenciacion(base, exponente):\n",
    "    return base ** exponente\n",
    "\n",
    "\n",
    "potenciacion(2, 5)\n",
    "\n",
    "potenciacion(5, 2)\n",
    "\n",
    "potenciacion(base=3, exponente=5)\n",
    "\n",
    "potenciacion(exponente=5, base=3)"
   ]
  },
  {
   "cell_type": "code",
   "execution_count": 25,
   "metadata": {},
   "outputs": [
    {
     "data": {
      "text/plain": [
       "125"
      ]
     },
     "execution_count": 25,
     "metadata": {},
     "output_type": "execute_result"
    }
   ],
   "source": [
    "# parámetros con valores por defecto\n",
    "def potenciacion(base, exponente=2):\n",
    "    return base ** exponente\n",
    "\n",
    "\n",
    "potenciacion(5, 3)"
   ]
  },
  {
   "cell_type": "code",
   "execution_count": 22,
   "metadata": {},
   "outputs": [
    {
     "data": {
      "text/plain": [
       "25"
      ]
     },
     "execution_count": 22,
     "metadata": {},
     "output_type": "execute_result"
    }
   ],
   "source": [
    "potenciacion(5)"
   ]
  },
  {
   "cell_type": "code",
   "execution_count": 26,
   "metadata": {},
   "outputs": [
    {
     "data": {
      "text/plain": [
       "12"
      ]
     },
     "execution_count": 26,
     "metadata": {},
     "output_type": "execute_result"
    }
   ],
   "source": [
    "# *args\n",
    "def suma_varios(num1, num2, num3):\n",
    "\n",
    "    suma_total = num1 + num2 + num3\n",
    "    return suma_total\n",
    "\n",
    "\n",
    "suma_varios(3, 4, 5)"
   ]
  },
  {
   "cell_type": "code",
   "execution_count": 29,
   "metadata": {},
   "outputs": [
    {
     "data": {
      "text/plain": [
       "36"
      ]
     },
     "execution_count": 29,
     "metadata": {},
     "output_type": "execute_result"
    }
   ],
   "source": [
    "def suma_varios(*numeros):\n",
    "\n",
    "    suma_total = 0\n",
    "\n",
    "    for numero in numeros:\n",
    "        suma_total = suma_total + numero\n",
    "\n",
    "    return suma_total\n",
    "\n",
    "\n",
    "suma_varios(2)\n",
    "suma_varios(3, 4)\n",
    "suma_varios(1, 2, 3, 4, 5, 6, 7, 8)"
   ]
  },
  {
   "cell_type": "code",
   "execution_count": 30,
   "metadata": {},
   "outputs": [
    {
     "name": "stdout",
     "output_type": "stream",
     "text": [
      "{'nombre': 'Manuel', 'puesto': 'Data Scientist'}\n",
      "<class 'dict'>\n"
     ]
    }
   ],
   "source": [
    "# **kwargs\n",
    "\n",
    "def variables_parametros(**variables):\n",
    "    print(variables)\n",
    "    print(type(variables))\n",
    "\n",
    "\n",
    "variables_parametros(nombre=\"Manuel\", puesto=\"Data Scientist\")"
   ]
  },
  {
   "cell_type": "code",
   "execution_count": 32,
   "metadata": {},
   "outputs": [
    {
     "name": "stdout",
     "output_type": "stream",
     "text": [
      "nombre: Manuel\n",
      "puesto: Data Scientist\n"
     ]
    }
   ],
   "source": [
    "def caracteristicas(**variables):\n",
    "\n",
    "    for key, value in variables.items():\n",
    "        print(f\"{key}: {value}\")\n",
    "\n",
    "\n",
    "caracteristicas(nombre=\"Manuel\", puesto=\"Data Scientist\")"
   ]
  },
  {
   "cell_type": "code",
   "execution_count": 35,
   "metadata": {},
   "outputs": [
    {
     "data": {
      "text/plain": [
       "81"
      ]
     },
     "execution_count": 35,
     "metadata": {},
     "output_type": "execute_result"
    }
   ],
   "source": [
    "# funciones lambda\n",
    "def potenciacion(base, exponente):\n",
    "    return base ** exponente\n",
    "\n",
    "\n",
    "def potenciacion_lambda(base, exponente): return base ** exponente\n",
    "\n",
    "\n",
    "potenciacion_lambda(3, 4)"
   ]
  },
  {
   "cell_type": "code",
   "execution_count": 37,
   "metadata": {},
   "outputs": [
    {
     "data": {
      "text/plain": [
       "9"
      ]
     },
     "execution_count": 37,
     "metadata": {},
     "output_type": "execute_result"
    }
   ],
   "source": [
    "def potenciacion_lambda(base, exponente=2): return base ** exponente\n",
    "\n",
    "\n",
    "potenciacion_lambda(3, 4)\n",
    "\n",
    "potenciacion_lambda(3)"
   ]
  },
  {
   "cell_type": "code",
   "execution_count": 39,
   "metadata": {},
   "outputs": [
    {
     "data": {
      "text/plain": [
       "243"
      ]
     },
     "execution_count": 39,
     "metadata": {},
     "output_type": "execute_result"
    }
   ],
   "source": [
    "# comentarios en funciones\n",
    "\n",
    "def potenciacion(base, exponente):\n",
    "    \"\"\"\n",
    "    funcion que calcula la potenciacion de una base a un exponente\n",
    "\n",
    "    params:\n",
    "\n",
    "    base: int\n",
    "    exponente: int\n",
    "    \"\"\"\n",
    "\n",
    "    return base ** exponente\n",
    "\n",
    "\n",
    "potenciacion(3, 5)"
   ]
  },
  {
   "cell_type": "code",
   "execution_count": 40,
   "metadata": {},
   "outputs": [
    {
     "data": {
      "text/plain": [
       "[1, 4, 9, 16, 25]"
      ]
     },
     "execution_count": 40,
     "metadata": {},
     "output_type": "execute_result"
    }
   ],
   "source": [
    "# map, filter, reduce\n",
    "\n",
    "lista = [1, 2, 3, 4, 5]\n",
    "\n",
    "[numero ** 2 for numero in lista]"
   ]
  },
  {
   "cell_type": "code",
   "execution_count": 41,
   "metadata": {},
   "outputs": [
    {
     "data": {
      "text/plain": [
       "[1, 4, 9, 16, 25]"
      ]
     },
     "execution_count": 41,
     "metadata": {},
     "output_type": "execute_result"
    }
   ],
   "source": [
    "\n",
    "def elevar_cuadrado(numero): return numero ** 2\n",
    "\n",
    "\n",
    "list(map(elevar_cuadrado, lista))"
   ]
  },
  {
   "cell_type": "code",
   "execution_count": 44,
   "metadata": {},
   "outputs": [
    {
     "data": {
      "text/plain": [
       "[20, 40, 60, 80, 100]"
      ]
     },
     "execution_count": 44,
     "metadata": {},
     "output_type": "execute_result"
    }
   ],
   "source": [
    "lista = list(range(1, 101))\n",
    "\n",
    "[numero for numero in lista if numero % 20 == 0]"
   ]
  },
  {
   "cell_type": "code",
   "execution_count": 43,
   "metadata": {},
   "outputs": [
    {
     "data": {
      "text/plain": [
       "[20, 40, 60, 80, 100]"
      ]
     },
     "execution_count": 43,
     "metadata": {},
     "output_type": "execute_result"
    }
   ],
   "source": [
    "filtro = lambda numero: numero % 20 == 0\n",
    "     \n",
    "\n",
    "list(filter(filtro, lista))"
   ]
  },
  {
   "cell_type": "code",
   "execution_count": 46,
   "metadata": {},
   "outputs": [
    {
     "data": {
      "text/plain": [
       "120"
      ]
     },
     "execution_count": 46,
     "metadata": {},
     "output_type": "execute_result"
    }
   ],
   "source": [
    "from functools import reduce \n",
    "\n",
    "lista = [1,2,3,4,5]\n",
    "     \n",
    "reductor = lambda a, b: a * b\n",
    "     \n",
    "reduce(reductor, lista)"
   ]
  },
  {
   "cell_type": "code",
   "execution_count": 4,
   "metadata": {},
   "outputs": [
    {
     "data": {
      "text/plain": [
       "[4, 3, 5, 6, 2, 1]"
      ]
     },
     "execution_count": 4,
     "metadata": {},
     "output_type": "execute_result"
    }
   ],
   "source": [
    "# mportar funciones de python\n",
    "# paquete random: https://docs.python.org/es/3/library/random.html\n",
    "\n",
    "\n",
    "from random import shuffle\n",
    "\n",
    "\n",
    "lista = [1, 2, 3, 4, 5, 6]\n",
    "\n",
    "shuffle(lista)\n",
    "\n",
    "lista"
   ]
  },
  {
   "cell_type": "code",
   "execution_count": 5,
   "metadata": {},
   "outputs": [
    {
     "data": {
      "text/plain": [
       "18"
      ]
     },
     "execution_count": 5,
     "metadata": {},
     "output_type": "execute_result"
    }
   ],
   "source": [
    "from random import randint\n",
    "\n",
    "randint(10, 20)"
   ]
  },
  {
   "cell_type": "code",
   "execution_count": 6,
   "metadata": {},
   "outputs": [
    {
     "data": {
      "text/plain": [
       "'abcdefghijklmnopqrstuvwxyz'"
      ]
     },
     "execution_count": 6,
     "metadata": {},
     "output_type": "execute_result"
    }
   ],
   "source": [
    "# Ejercicio: Pangrams\n",
    "# paquete string: https://docs.python.org/es/3/library/string.html\n",
    "\n",
    "# \"Farmer jack realized that big yellow quilts were expensive\"\n",
    "# \"The quick brown fox jumps over the lazy dog\"\n",
    "\n",
    "\n",
    "import string\n",
    "\n",
    "string.ascii_lowercase"
   ]
  },
  {
   "cell_type": "code",
   "execution_count": 7,
   "metadata": {},
   "outputs": [
    {
     "data": {
      "text/plain": [
       "False"
      ]
     },
     "execution_count": 7,
     "metadata": {},
     "output_type": "execute_result"
    }
   ],
   "source": [
    "def es_pangram(frase):\n",
    "    \"\"\"devuelve True si la frase es un pangram \n",
    "    y False en caso no lo sea\n",
    "\n",
    "    params:\n",
    "    frase: str\n",
    "    \"\"\"\n",
    "\n",
    "    alfabeto = string.ascii_lowercase\n",
    "\n",
    "    frase = frase.lower()\n",
    "    caracteres = list(set(frase))\n",
    "\n",
    "    for caracter in alfabeto:\n",
    "        if caracter not in caracteres:\n",
    "            return False\n",
    "\n",
    "    return True\n",
    "\n",
    "\n",
    "es_pangram(\"Hola me llamo Manuel\")"
   ]
  },
  {
   "cell_type": "code",
   "execution_count": 8,
   "metadata": {},
   "outputs": [
    {
     "data": {
      "text/plain": [
       "True"
      ]
     },
     "execution_count": 8,
     "metadata": {},
     "output_type": "execute_result"
    }
   ],
   "source": [
    "es_pangram(\"The quick brown fox jumps over the lazy dog\")"
   ]
  },
  {
   "cell_type": "code",
   "execution_count": 9,
   "metadata": {},
   "outputs": [
    {
     "data": {
      "text/plain": [
       "[1, 2, 4, 7, 14]"
      ]
     },
     "execution_count": 9,
     "metadata": {},
     "output_type": "execute_result"
    }
   ],
   "source": [
    "# Ejercicio: Números perfectos\n",
    "# Definición de números perfectos https://es.wikipedia.org/wiki/Número_perfecto\n",
    "\n",
    "\n",
    "def divisores_propios(numero):\n",
    "\n",
    "    return [divisor for divisor in range(1, numero) if numero % divisor == 0]\n",
    "\n",
    "\n",
    "divisores_propios(28)"
   ]
  },
  {
   "cell_type": "code",
   "execution_count": 10,
   "metadata": {},
   "outputs": [
    {
     "data": {
      "text/plain": [
       "False"
      ]
     },
     "execution_count": 10,
     "metadata": {},
     "output_type": "execute_result"
    }
   ],
   "source": [
    "def es_perfecto(numero):\n",
    "\n",
    "    if numero == sum(divisores_propios(numero)):\n",
    "        return True\n",
    "    else:\n",
    "        return False\n",
    "\n",
    "\n",
    "es_perfecto(15)"
   ]
  },
  {
   "cell_type": "code",
   "execution_count": 11,
   "metadata": {},
   "outputs": [
    {
     "data": {
      "text/plain": [
       "True"
      ]
     },
     "execution_count": 11,
     "metadata": {},
     "output_type": "execute_result"
    }
   ],
   "source": [
    "es_perfecto(6)"
   ]
  },
  {
   "cell_type": "code",
   "execution_count": 12,
   "metadata": {},
   "outputs": [
    {
     "data": {
      "text/plain": [
       "True"
      ]
     },
     "execution_count": 12,
     "metadata": {},
     "output_type": "execute_result"
    }
   ],
   "source": [
    "es_perfecto(8128)"
   ]
  },
  {
   "cell_type": "code",
   "execution_count": null,
   "metadata": {},
   "outputs": [],
   "source": []
  }
 ],
 "metadata": {
  "kernelspec": {
   "display_name": "Python 3",
   "language": "python",
   "name": "python3"
  },
  "language_info": {
   "codemirror_mode": {
    "name": "ipython",
    "version": 3
   },
   "file_extension": ".py",
   "mimetype": "text/x-python",
   "name": "python",
   "nbconvert_exporter": "python",
   "pygments_lexer": "ipython3",
   "version": "3.11.8"
  }
 },
 "nbformat": 4,
 "nbformat_minor": 2
}
