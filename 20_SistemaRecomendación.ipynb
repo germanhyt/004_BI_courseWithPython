{
 "cells": [
  {
   "cell_type": "markdown",
   "metadata": {},
   "source": [
    "## Sistemas de recomendación"
   ]
  },
  {
   "cell_type": "code",
   "execution_count": null,
   "metadata": {},
   "outputs": [],
   "source": [
    "# Los sistemas de recomendación son algoritmos utilizados para sugerir los productos más relevantes a los usuarios. Estos sistemas son extremadamente efectivos en la actualidad debido a la cantidad de información disponible en línea, lo que puede ser abrumador para los usuarios.\n",
    "# Concepto:\n",
    "# - Los sistemas de recomendación son una clase de sistemas de filtrado de información que buscan predecir la \"calificación\" o \"preferencia\" que un usuario daría a un artículo. Son ampliamente utilizados en diferentes servicios en línea donde los usuarios interactúan con productos y servicios, como Amazon, YouTube, Netflix, etc.\n",
    "# Características:\n",
    "# - Personalización: Los sistemas de recomendación proporcionan sugerencias personalizadas a cada usuario en función de su comportamiento anterior y preferencias.\n",
    "# - Diversidad: Pueden sugerir productos de diversas categorías, aumentando la posibilidad de que el usuario encuentre algo de su interés.\n",
    "# - Escalabilidad: Son capaces de manejar una gran cantidad de información y proporcionar recomendaciones en tiempo real.\n",
    "# Ventajas:\n",
    "# - Mejora la experiencia del usuario al proporcionar recomendaciones personalizadas.\n",
    "# - Aumenta la retención de usuarios al mantenerlos comprometidos con productos relevantes.\n",
    "# - Aumenta las ventas al promover productos que de otra manera podrían pasar desapercibidos.\n",
    "# Desventajas:\n",
    "# - Pueden llevar a un efecto de burbuja de filtro, donde los usuarios solo ven contenido similar a lo que ya les gusta, limitando la diversidad.\n",
    "# - Los sistemas de recomendación basados en filtrado colaborativo sufren del problema del arranque en frío, donde es difícil hacer recomendaciones precisas para nuevos usuarios o productos.\n",
    "# Ténicas de recomendación:\n",
    "# - Filtrado colaborativo: Este método hace recomendaciones basadas en la colaboración entre usuarios. Si dos usuarios tienden a calificar los productos de manera similar, entonces los productos que le gustan a uno probablemente le gustarán al otro. Este método puede ser más efectivo que el filtrado basado en contenido, pero tiene el problema de iniciar a los nuevos usuarios (el problema del arranque en frío).\n",
    "# - Filtrado basado en contenido: Este método utiliza características de los productos para hacer recomendaciones. Por ejemplo, si a un usuario le gusta una película de ciencia ficción, el sistema recomendará otras películas de ciencia ficción. Este método puede ser más limitado en sus recomendaciones porque se basa en las características existentes de los productos.\n",
    "# - Filtrado híbrido: Este método combina el filtrado colaborativo y el basado en contenido para hacer recomendaciones. Puede superar las limitaciones de ambos métodos y proporcionar recomendaciones más efectivas.\n",
    "# Aplicación con Python:\n",
    "# - En Python, hay varias bibliotecas disponibles para implementar sistemas de recomendación, como Surprise, LightFM, etc. Estas bibliotecas proporcionan herramientas para crear y afinar sistemas de recomendación, como algoritmos de filtrado colaborativo y basado en contenido, métricas de evaluación, etc."
   ]
  },
  {
   "cell_type": "code",
   "execution_count": null,
   "metadata": {},
   "outputs": [],
   "source": []
  },
  {
   "cell_type": "markdown",
   "metadata": {},
   "source": [
    "# Ejemplos"
   ]
  },
  {
   "cell_type": "code",
   "execution_count": 7,
   "metadata": {},
   "outputs": [
    {
     "ename": "ModuleNotFoundError",
     "evalue": "No module named 'surprise'",
     "output_type": "error",
     "traceback": [
      "\u001b[1;31m---------------------------------------------------------------------------\u001b[0m",
      "\u001b[1;31mModuleNotFoundError\u001b[0m                       Traceback (most recent call last)",
      "Cell \u001b[1;32mIn[7], line 1\u001b[0m\n\u001b[1;32m----> 1\u001b[0m \u001b[38;5;28;01mfrom\u001b[39;00m \u001b[38;5;21;01msurprise\u001b[39;00m \u001b[38;5;28;01mimport\u001b[39;00m KNNBasic\n\u001b[0;32m      2\u001b[0m \u001b[38;5;28;01mfrom\u001b[39;00m \u001b[38;5;21;01msurprise\u001b[39;00m \u001b[38;5;28;01mimport\u001b[39;00m Dataset\n\u001b[0;32m      3\u001b[0m \u001b[38;5;28;01mfrom\u001b[39;00m \u001b[38;5;21;01msurprise\u001b[39;00m \u001b[38;5;28;01mimport\u001b[39;00m Reader\n",
      "\u001b[1;31mModuleNotFoundError\u001b[0m: No module named 'surprise'"
     ]
    }
   ],
   "source": [
    "from surprise import KNNBasic\n",
    "from surprise import Dataset\n",
    "from surprise import Reader\n",
    "from surprise.model_selection import cross_validate\n",
    "import pandas as pd\n",
    "\n",
    "# Crear datos simulados\n",
    "ratings_dict = {\n",
    "    'itemID': [1, 1, 1, 2, 2],\n",
    "    'userID': ['A', 'B', 'C', 'A', 'B'],\n",
    "    'rating': [1, 2, 2, 4, 5]\n",
    "}\n",
    "\n",
    "df = pd.DataFrame(ratings_dict)\n",
    "\n",
    "# Un lector es necesario pero sólo necesitamos el parámetro rating_scale\n",
    "reader = Reader(rating_scale=(1, 5))\n",
    "\n",
    "# Los datos se almacenan en un objeto Dataset de Surprise\n",
    "data = Dataset.load_from_df(df[['userID', 'itemID', 'rating']], reader)\n",
    "\n",
    "# Usamos el algoritmo KNNBasic para el filtrado colaborativo\n",
    "algo = KNNBasic()\n",
    "\n",
    "# Realizamos validación cruzada\n",
    "cross_validate(algo, data, measures=['RMSE', 'MAE'], cv=5, verbose=True)"
   ]
  },
  {
   "cell_type": "markdown",
   "metadata": {},
   "source": []
  },
  {
   "cell_type": "markdown",
   "metadata": {},
   "source": []
  }
 ],
 "metadata": {
  "kernelspec": {
   "display_name": "Python 3",
   "language": "python",
   "name": "python3"
  },
  "language_info": {
   "codemirror_mode": {
    "name": "ipython",
    "version": 3
   },
   "file_extension": ".py",
   "mimetype": "text/x-python",
   "name": "python",
   "nbconvert_exporter": "python",
   "pygments_lexer": "ipython3",
   "version": "3.11.8"
  }
 },
 "nbformat": 4,
 "nbformat_minor": 2
}
