{
 "cells": [
  {
   "cell_type": "code",
   "execution_count": 19,
   "metadata": {},
   "outputs": [
    {
     "name": "stdout",
     "output_type": "stream",
     "text": [
      "[3, 3.1416, 'Manuel', True]\n"
     ]
    },
    {
     "data": {
      "text/plain": [
       "3"
      ]
     },
     "execution_count": 19,
     "metadata": {},
     "output_type": "execute_result"
    }
   ],
   "source": [
    "#########################\n",
    "# Tipos de variables\n",
    "#########################\n",
    "\n",
    "# Listas\n",
    "lista = [3, 3.1416, \"Manuel\", True]\n",
    "print(lista)\n",
    "# lista[-2]\n",
    "# lista[-5]\n",
    "\n",
    "lista[0]"
   ]
  },
  {
   "cell_type": "code",
   "execution_count": 16,
   "metadata": {},
   "outputs": [
    {
     "name": "stdout",
     "output_type": "stream",
     "text": [
      "[30, 40, 50, 60, 70] [30, 40, 50, 60, 70, 80]\n"
     ]
    },
    {
     "data": {
      "text/plain": [
       "[30, 60, 90]"
      ]
     },
     "execution_count": 16,
     "metadata": {},
     "output_type": "execute_result"
    }
   ],
   "source": [
    "# Slicing de listas\n",
    "lista = [10, 20, 30, 40, 50, 60, 70, 80, 90, 100]\n",
    "print(\n",
    "    lista[2:7],\n",
    "lista[2:-2]\n",
    ")\n",
    "a = lista[2:-2],\n",
    "type(a)\n",
    "\n",
    "# Slicing de listas II - con saltos\n",
    "lista = [10, 20, 30, 40, 50, 60, 70, 80, 90, 100]\n",
    "lista[2:8]\n",
    "lista[2:8:2]\n",
    "lista[::-2]\n",
    "lista[::-1]\n",
    "lista[2::3]"
   ]
  },
  {
   "cell_type": "code",
   "execution_count": 28,
   "metadata": {},
   "outputs": [
    {
     "name": "stdout",
     "output_type": "stream",
     "text": [
      "[10, 20, 30, 40, 50, 60, 70, 80, 90, 100, 1, 2, 3, 4, 5] \n",
      " [1, 2, 3, 4, 5, 10, 20, 30, 40, 50, 60, 70, 80, 90, 100] \n",
      " [1, 2, 3, 4, 5, 1, 2, 3, 4, 5, 1, 2, 3, 4, 5, 1, 2, 3, 4, 5, 1, 2, 3, 4, 5]\n"
     ]
    }
   ],
   "source": [
    "# Operaciones con listas\n",
    "\n",
    "lista = [10, 20, 30, 40, 50, 60, 70, 80, 90, 100]\n",
    "lista2 = [1, 2, 3, 4, 5]\n",
    "print(\n",
    "    lista + lista2,\n",
    "    \"\\n\",\n",
    "    lista2 + lista,\n",
    "    \"\\n\",\n",
    "    lista2 * 5,\n",
    "    # lista * lista2,\n",
    "    # lista2 / 5,\n",
    ")"
   ]
  },
  {
   "cell_type": "code",
   "execution_count": 35,
   "metadata": {},
   "outputs": [
    {
     "name": "stdout",
     "output_type": "stream",
     "text": [
      "[10, 20, 30, 40, 50, 60, 70, 80, 90, 100, 110]\n",
      "[10, 20, 30, 40, 50, -100, 60, 70, 80, 90, 100, 110]\n",
      "50\n",
      "[10, 20, 30, 40, 70, 80, 90, 100]\n",
      "[10, 20, 30, 40, 80, 90, 100]\n"
     ]
    }
   ],
   "source": [
    "# len, append, insert, pop, remove\n",
    "lista = [10, 20, 30, 40, 50, 60, 70, 80, 90, 100]\n",
    "len(lista)\n",
    "lista.append(110)\n",
    "print(lista)\n",
    "lista.insert(5, -100)\n",
    "print(lista)\n",
    "\n",
    "lista = [10, 20, 30, 40, 50, 60, 70, 80, 90, 100]\n",
    "lista.pop(5)\n",
    "a = lista.pop(4)\n",
    "print(a)\n",
    "print(lista)\n",
    "lista.remove(70)\n",
    "print(lista)"
   ]
  },
  {
   "cell_type": "code",
   "execution_count": 38,
   "metadata": {},
   "outputs": [
    {
     "name": "stdout",
     "output_type": "stream",
     "text": [
      "[-20, 34, 98, 14, 12, 50, 40]\n",
      "[-20, 34, -12, 14, 12, 50, 40]\n",
      "[-20, -12, 12, 14, 34, 40, 50]\n",
      "[50, 40, 34, 14, 12, -12, -20]\n"
     ]
    }
   ],
   "source": [
    "\n",
    "# Ordenar y reemplazar elementos\n",
    "lista = [40, 50, 12, 14, 98, 34, -20]\n",
    "lista.reverse()\n",
    "print(lista)\n",
    "lista[2] = -12\n",
    "print(lista)\n",
    "lista.sort()\n",
    "print(lista)\n",
    "lista.reverse()\n",
    "print(lista)"
   ]
  },
  {
   "cell_type": "code",
   "execution_count": 42,
   "metadata": {},
   "outputs": [
    {
     "name": "stdout",
     "output_type": "stream",
     "text": [
      "228 -20 98\n"
     ]
    }
   ],
   "source": [
    "# sum, min, max\n",
    "lista = [40, 50, 12, 14, 98, 34, -20]\n",
    "print(sum(lista), min(lista),\n",
    "      max(lista))"
   ]
  },
  {
   "cell_type": "code",
   "execution_count": 47,
   "metadata": {},
   "outputs": [
    {
     "name": "stdout",
     "output_type": "stream",
     "text": [
      "Hola, Manuel, mucho gusto \n",
      " 14 \n",
      " a \n",
      " Manuel\n"
     ]
    }
   ],
   "source": [
    "# Listas y strings\n",
    "lista = [40, 50, 12, 14, 98, 34, -20]\n",
    "saludo = \"Hola, Manuel, mucho gusto\"\n",
    "print(saludo,\n",
    "      \"\\n\",\n",
    "      lista[3],\n",
    "      \"\\n\",\n",
    "      saludo[3],\n",
    "      \"\\n\",\n",
    "      saludo[6:12]\n",
    "      )"
   ]
  },
  {
   "cell_type": "code",
   "execution_count": 51,
   "metadata": {},
   "outputs": [
    {
     "name": "stdout",
     "output_type": "stream",
     "text": [
      "[40, 50, 12, 14, 12345, 34, -20]\n",
      "Hola, Manuel, mucho gusto\n"
     ]
    }
   ],
   "source": [
    "# Listas y strings: Mutabilidad\n",
    "lista = [40, 50, 12, 14, 98, 34, -20]\n",
    "saludo = \"Hola, Manuel, mucho gusto\"\n",
    "lista[4] = 12345\n",
    "print(lista)\n",
    "# saludo[4] = \"F\"\n",
    "print(saludo)"
   ]
  },
  {
   "cell_type": "code",
   "execution_count": null,
   "metadata": {},
   "outputs": [],
   "source": [
    "\n"
   ]
  },
  {
   "cell_type": "code",
   "execution_count": null,
   "metadata": {},
   "outputs": [],
   "source": []
  }
 ],
 "metadata": {
  "kernelspec": {
   "display_name": "Python 3",
   "language": "python",
   "name": "python3"
  },
  "language_info": {
   "codemirror_mode": {
    "name": "ipython",
    "version": 3
   },
   "file_extension": ".py",
   "mimetype": "text/x-python",
   "name": "python",
   "nbconvert_exporter": "python",
   "pygments_lexer": "ipython3",
   "version": "3.11.8"
  }
 },
 "nbformat": 4,
 "nbformat_minor": 2
}
