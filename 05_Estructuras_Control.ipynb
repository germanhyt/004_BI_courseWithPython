{
 "cells": [
  {
   "cell_type": "code",
   "execution_count": 1,
   "metadata": {},
   "outputs": [],
   "source": [
    "#########################\n",
    "# Estructuras de control\n",
    "#########################\n",
    "\n",
    "\n",
    "# if condicion:\n",
    "# bloque si se cumple la condicion\n",
    "# Escribir un programa que indique si un número es par\n",
    "\n",
    "numero = 17\n",
    "if numero % 2 == 0:\n",
    "\n",
    "    print(\"El número es par\")"
   ]
  },
  {
   "cell_type": "code",
   "execution_count": 2,
   "metadata": {},
   "outputs": [
    {
     "name": "stdout",
     "output_type": "stream",
     "text": [
      "El número es par\n"
     ]
    }
   ],
   "source": [
    "# if ... else\n",
    "# if condicion:\n",
    "#     bloque si se cumple la condicion\n",
    "# else:\n",
    "#     bloque si NO se cumple la condición\n",
    "numero = 16\n",
    "\n",
    "if numero % 2 == 0:\n",
    "    print(\"El número es par\")\n",
    "\n",
    "else:\n",
    "    print(\"El número es impar\")"
   ]
  },
  {
   "cell_type": "code",
   "execution_count": 4,
   "metadata": {},
   "outputs": [
    {
     "name": "stdout",
     "output_type": "stream",
     "text": [
      "Squirtle yo te elijo!\n"
     ]
    }
   ],
   "source": [
    "# if ... elif ... else\n",
    "# if condicion 1:\n",
    "#     bloque si se cumple la condicion 1\n",
    "# elif condicion 2:\n",
    "#     bloque si se cumple la condicion 2\n",
    "# elif condicion 3:\n",
    "#     bloque si se cumple la condición 3\n",
    "# ...\n",
    "# else:\n",
    "#     bloque si NO se cumple ninguna condición\n",
    "# Elegir el pokemon con el tipo ventaja\n",
    "pokemon_rival = \"Charmander\"\n",
    "\n",
    "if pokemon_rival == \"Charmander\":\n",
    "    nuestro_pokemon = \"Squirtle\"\n",
    "elif pokemon_rival == \"Bulbasaur\":\n",
    "    nuestro_pokemon = \"Charmander\"\n",
    "elif pokemon_rival == \"Squirtle\":\n",
    "    nuestro_pokemon = \"Bulbasaur\"\n",
    "else:\n",
    "    nuestro_pokemon = \"Pikachu\"\n",
    "\n",
    "print(f\"{nuestro_pokemon} yo te elijo!\")"
   ]
  },
  {
   "cell_type": "code",
   "execution_count": 8,
   "metadata": {},
   "outputs": [
    {
     "name": "stdout",
     "output_type": "stream",
     "text": [
      "Millenial\n"
     ]
    }
   ],
   "source": [
    "# Ejercicio 1\n",
    "# Escribir un programa que indique la generación correspondiente para un año de nacimiento indicado\n",
    "\n",
    "# colocar aquí tu código\n",
    "anio = 1999\n",
    "\n",
    "if anio >= 2001 and anio <= 2010:\n",
    "    print(\"Generación Z\")\n",
    "\n",
    "elif anio >= 1980 and anio <= 2000:\n",
    "    print(\"Millenial\")\n",
    "\n",
    "elif anio >= 1965 and anio <= 1979:\n",
    "    print(\"Generacion X\")\n",
    "\n",
    "elif anio >= 1946 and anio <= 1964:\n",
    "    print(\"Baby Boomer\")\n",
    "\n",
    "elif anio >= 1920 and anio <= 1940:\n",
    "    print(\"Generación Silenciosa\")\n",
    "else:\n",
    "    print(\"No clasificado\")"
   ]
  },
  {
   "cell_type": "code",
   "execution_count": 14,
   "metadata": {},
   "outputs": [
    {
     "name": "stdout",
     "output_type": "stream",
     "text": [
      "Aprobado\n"
     ]
    }
   ],
   "source": [
    "# if ... else anidados\n",
    "# if condicion exterior:\n",
    "\n",
    "#       if condicion interior:\n",
    "#           bloque si se cumplen ambas condiciones\n",
    "\n",
    "#       else:\n",
    "#           bloque si se cumple solo la condicion exterior\n",
    "\n",
    "# else:\n",
    "#       bloque si no se cumple ninguna condicion\n",
    "# Determinar si se va a entregar un crédito a un cliente de un banco.\n",
    "\n",
    "# Para aprobar un crédito, el cliente debe ser mayor de edad.\n",
    "\n",
    "# Además, debe tener una antiguedad en el sistema financiero de como mínimo 3 años y un ingreso mayor a 2500 soles.\n",
    "\n",
    "# En caso no tenga la antiguedad suficiente, su ingreso mensual debe ser como mínimo 4000 soles.\n",
    "\n",
    "# Si no cumple ninguna de las condiciones, no se aprueba el crédito\n",
    "\n",
    "edad = 24\n",
    "antiguedad = 10\n",
    "ingreso = 50000\n",
    "\n",
    "if edad >= 18:\n",
    "    if antiguedad >= 3 and ingreso >= 2500:\n",
    "        print(\"Aprobado\")\n",
    "\n",
    "    elif ingreso >= 4000:\n",
    "        print(\"Aprobado\")\n",
    "\n",
    "    else:\n",
    "        print(\"No aprobado\")\n",
    "\n",
    "else:\n",
    "    print(\"No aprobado\")"
   ]
  },
  {
   "cell_type": "code",
   "execution_count": 17,
   "metadata": {},
   "outputs": [
    {
     "name": "stdout",
     "output_type": "stream",
     "text": [
      "Bisiesto\n"
     ]
    }
   ],
   "source": [
    "# Ejercicio 2\n",
    "# Escribir un programa que indique si un año es bisiesto o no. Las reglas para determinar que un año es bisiesto son\n",
    "\n",
    "# Los años bisiestos son los divisibles entre 4 (como 2004, 2008)\n",
    "\n",
    "# \texcepto si es divisible entre 100, entonces no es bisiesto (como 2100, 2200)\n",
    "\n",
    "# \t\texcepto si es divisible entre 400, entonces sí (como 2000, 2400)\n",
    "\n",
    "anio = 2024\n",
    "if anio % 4 == 0:\n",
    "\n",
    "    if anio % 100 == 0:\n",
    "\n",
    "        if anio % 400 == 0:\n",
    "            print(\"Bisiesto\")\n",
    "        else:\n",
    "            print(\"No bisiesto\")\n",
    "\n",
    "    else:\n",
    "\n",
    "        print(\"Bisiesto\")\n",
    "\n",
    "else:\n",
    "\n",
    "    print(\"No bisiesto\")"
   ]
  },
  {
   "cell_type": "code",
   "execution_count": 21,
   "metadata": {},
   "outputs": [
    {
     "name": "stdout",
     "output_type": "stream",
     "text": [
      "Es palíndroma\n"
     ]
    }
   ],
   "source": [
    "# Ejercicio 3\n",
    "# Escribir un programa que reciba una palabra y imprima si la palabra es palíndroma\n",
    "\n",
    "palabra = input(\"Ingrese una palabra: \")\n",
    "\n",
    "if palabra == palabra[::-1]:\n",
    "    print(\"Es palíndroma\")\n",
    "else:\n",
    "    print(\"No es palíndroma\")"
   ]
  }
 ],
 "metadata": {
  "kernelspec": {
   "display_name": "Python 3",
   "language": "python",
   "name": "python3"
  },
  "language_info": {
   "codemirror_mode": {
    "name": "ipython",
    "version": 3
   },
   "file_extension": ".py",
   "mimetype": "text/x-python",
   "name": "python",
   "nbconvert_exporter": "python",
   "pygments_lexer": "ipython3",
   "version": "3.11.8"
  }
 },
 "nbformat": 4,
 "nbformat_minor": 2
}
